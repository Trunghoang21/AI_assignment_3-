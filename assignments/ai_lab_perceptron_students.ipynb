{
 "cells": [
  {
   "cell_type": "markdown",
   "id": "retired-darkness",
   "metadata": {},
   "source": [
    "# Classification with the perceptron and logistic regression\n",
    "\n",
    "__Individual assignment__\n",
    "\n",
    "Author of the assignment: Pierre Nugues\n",
    "\n",
    "__Student name__:"
   ]
  },
  {
   "cell_type": "markdown",
   "id": "former-expense",
   "metadata": {},
   "source": [
    "## Objectives\n",
    "\n",
    "The objectives of this second assignment are to:\n",
    "\n",
    "1.  Write a linear regression program using gradient descent;\n",
    "2.  Write linear classifiers using the perceptron algorithm and logistic regression;\n",
    "3.  Experiment variations of the algorithms;\n",
    "4.  Evaluate your classifiers;\n",
    "5.  Experiment with popular tools;\n",
    "6.  Read a scientific article on optimization techniques and comment it;\n",
    "7.  Present your code, results, and comments in a short dissertation."
   ]
  },
  {
   "cell_type": "markdown",
   "id": "lasting-booking",
   "metadata": {},
   "source": [
    "## Overview\n",
    "\n",
    "The gradient descent is a basic technique to estimate the parameters of cost functions. \n",
    "1. You will first use the gradient descent method to implement linear regression. \n",
    "2. You will then program the perceptron algorithm. \n",
    "3. Finally, you will improve the threshold function with the logistic curve (logistic regression). \n",
    "\n",
    "You will try various configurations and study their influence on the learning speed and accuracy."
   ]
  },
  {
   "cell_type": "markdown",
   "id": "accredited-salad",
   "metadata": {},
   "source": [
    "##  Programming language\n",
    "As programming language, you will use Python and write your code in this notebook.\n",
    "\n",
    "You need to have a comprehensive Python distribution such as Anaconda (https://www.anaconda.com/products/individual). This distribution is available on the student computers at the computer science department.\n",
    "Finally, you start a notebook by typing:\n",
    "\n",
    "`jupyter lab`\n",
    "\n",
    "in a terminal window and you select the notebook by clicking on it in the left pane.\n",
    "You run the pieces of code by typing shift+enter. You can also use a programming tool like VS Code or PyCharm."
   ]
  },
  {
   "cell_type": "markdown",
   "id": "aerial-bedroom",
   "metadata": {},
   "source": [
    "## Imports\n",
    "Imports you may use"
   ]
  },
  {
   "cell_type": "code",
   "execution_count": 16,
   "id": "complete-mileage",
   "metadata": {},
   "outputs": [],
   "source": [
    "import numpy as np\n",
    "import matplotlib.pyplot as plt\n",
    "from matplotlib import cm\n",
    "from mpl_toolkits.mplot3d import Axes3D\n",
    "import random\n",
    "import vector"
   ]
  },
  {
   "cell_type": "markdown",
   "id": "similar-stanford",
   "metadata": {},
   "source": [
    "## Linear Regression\n",
    "\n",
    "You will implement the gradient descent method as explained in pages 694-697 in Russell-Norvig (pp. 719--720 in the 3rd ed.) and in the slides to compute regression lines. You will implement the stochastic and batch versions of the algorithm.\n",
    "\n",
    "You must try to do it yourself first. If you encounter difficulties, you also have the solution to this exercise in the section _Solution to linear regression_ below. See: https://github.com/pnugues/edap01/tree/master/gradient_descent_practice"
   ]
  },
  {
   "cell_type": "markdown",
   "id": "included-privacy",
   "metadata": {},
   "source": [
    "### Your implementation of linear regression\n",
    "You will implement a regression program to predict the counts of _A_'s in a text from the total count of letters. You will apply it on two data sets corresponding to letter counts in the 15 chapters of the French and English versions of _Salammbô_, where the first column is the total count of characters and the second one, the count of A's. \n",
    "\n",
    "Start with either French or English and when your program ready, test it on the other language."
   ]
  },
  {
   "cell_type": "code",
   "execution_count": 2,
   "id": "southern-representative",
   "metadata": {},
   "outputs": [],
   "source": [
    "stat_fr = np.array([[36961, 2503],\n",
    "                    [43621, 2992],\n",
    "                    [15694, 1042],\n",
    "                    [36231, 2487],\n",
    "                    [29945, 2014],\n",
    "                    [40588, 2805],\n",
    "                    [75255, 5062],\n",
    "                    [37709, 2643],\n",
    "                    [30899, 2126],\n",
    "                    [25486, 1784],\n",
    "                    [37497, 2641],\n",
    "                    [40398, 2766],\n",
    "                    [74105, 5047],\n",
    "                    [76725, 5312],\n",
    "                    [18317, 1215]])\n",
    "\n",
    "stat_en = np.array([[35680, 2217],\n",
    "                    [42514, 2761],\n",
    "                    [15162, 990],\n",
    "                    [35298, 2274],\n",
    "                    [29800, 1865],\n",
    "                    [40255, 2606],\n",
    "                    [74532, 4805],\n",
    "                    [37464, 2396],\n",
    "                    [31030, 1993],\n",
    "                    [24843, 1627],\n",
    "                    [36172, 2375],\n",
    "                    [39552, 2560],\n",
    "                    [72545, 4597],\n",
    "                    [75352, 4871],\n",
    "                    [18031, 1119]])"
   ]
  },
  {
   "cell_type": "markdown",
   "id": "stuffed-albania",
   "metadata": {},
   "source": [
    "From the datasets above, tell what is ${X}$ and $\\mathbf{y}$. Extract:\n",
    "1. The ${X}$ matrix, where you will have a column to model the intercept;\n",
    "2. The $\\mathbf{y}$ vector\n",
    "\n",
    "from these arrays."
   ]
  },
  {
   "cell_type": "markdown",
   "id": "2bef1b0a-dacb-4a66-b5f0-f542a6ce229d",
   "metadata": {},
   "source": [
    "X (the predictor variable) and y (the response variable)"
   ]
  },
  {
   "cell_type": "code",
   "execution_count": 3,
   "id": "ultimate-remark",
   "metadata": {},
   "outputs": [
    {
     "name": "stdout",
     "output_type": "stream",
     "text": [
      "[[    1 35680]\n",
      " [    1 42514]\n",
      " [    1 15162]\n",
      " [    1 35298]\n",
      " [    1 29800]\n",
      " [    1 40255]\n",
      " [    1 74532]\n",
      " [    1 37464]\n",
      " [    1 31030]\n",
      " [    1 24843]\n",
      " [    1 36172]\n",
      " [    1 39552]\n",
      " [    1 72545]\n",
      " [    1 75352]\n",
      " [    1 18031]]\n",
      "[2217 2761  990 2274 1865 2606 4805 2396 1993 1627 2375 2560 4597 4871\n",
      " 1119]\n"
     ]
    }
   ],
   "source": [
    "# Write your code here\n",
    "# Extract the X and y for the English dataset.\n",
    "\n",
    "# predictor variable\n",
    "X = stat_en[:,0]\n",
    "X = np.column_stack((np.ones(len(stat_en),dtype = np.int8), stat_en[:,0]))\n",
    "\n",
    "# the response variable \n",
    "y = stat_en[:,1]\n",
    "\n",
    "print(X)\n",
    "print(y)\n"
   ]
  },
  {
   "cell_type": "markdown",
   "id": "disabled-facing",
   "metadata": {},
   "source": [
    "Scale the arrays so that they fit in the range [0, 1] on the $x$ and $y$ axes. "
   ]
  },
  {
   "cell_type": "code",
   "execution_count": 4,
   "id": "confidential-purple",
   "metadata": {},
   "outputs": [],
   "source": [
    "# for the purpose of scaling the arrays so they fit in the range of [0,1], we use Min-max scaling or standardization\n",
    "# Write your code here\n",
    "def cus_min_max_scaling(data):\n",
    "    min_value = np.min(data)\n",
    "    max_value = np.max(data)\n",
    "    return (data - min_value) / (max_value - min_value)   "
   ]
  },
  {
   "cell_type": "code",
   "execution_count": 5,
   "id": "cf48a821-f960-4a71-88ce-9eca03277ad6",
   "metadata": {},
   "outputs": [
    {
     "name": "stdout",
     "output_type": "stream",
     "text": [
      "[[1.         0.34088719]\n",
      " [1.         0.45442765]\n",
      " [1.         0.        ]\n",
      " [1.         0.33454062]\n",
      " [1.         0.24319654]\n",
      " [1.         0.41689649]\n",
      " [1.         0.98637647]\n",
      " [1.         0.37052667]\n",
      " [1.         0.26363183]\n",
      " [1.         0.16084067]\n",
      " [1.         0.34906131]\n",
      " [1.         0.40521681]\n",
      " [1.         0.95336435]\n",
      " [1.         1.        ]\n",
      " [1.         0.04766573]]\n",
      "[0.31615563 0.45632569 0.         0.33084257 0.22545736 0.41638753\n",
      " 0.98299407 0.36227776 0.25843855 0.16413296 0.35686679 0.40453491\n",
      " 0.92939964 1.         0.03323886]\n"
     ]
    }
   ],
   "source": [
    "# scale data\n",
    "# for predictor variable\n",
    "X_temp = cus_min_max_scaling(X[:,1])\n",
    "X_scaled = np.column_stack((np.ones(len(stat_en),dtype = np.int8), X_temp))\n",
    "\n",
    "# for response variable \n",
    "y_scaled = cus_min_max_scaling(y)\n",
    "\n",
    "print(X_scaled)\n",
    "print(y_scaled)"
   ]
  },
  {
   "cell_type": "markdown",
   "id": "herbal-valve",
   "metadata": {},
   "source": [
    "#### Gradient descent"
   ]
  },
  {
   "cell_type": "markdown",
   "id": "32b1d90c-a9df-49b9-8e41-146c3a7d56f0",
   "metadata": {},
   "source": [
    "Loss function"
   ]
  },
  {
   "cell_type": "code",
   "execution_count": 6,
   "id": "3bf7a104-a88e-4196-9260-abe303c6c7e4",
   "metadata": {},
   "outputs": [],
   "source": [
    "def sse(X, y ,w):\n",
    "    error = y - X @ y\n",
    "    return error.T @ error"
   ]
  },
  {
   "cell_type": "markdown",
   "id": "c29f6136-25c7-4d76-9de1-cf74ea03144c",
   "metadata": {},
   "source": [
    "error.T @ error performs a dot product between the transposed error vector and the orginal error vector.\n",
    "This operations equates to summing the sequences of all individual errors "
   ]
  },
  {
   "cell_type": "markdown",
   "id": "b7d9463d-77b1-4eb7-a239-3ed2f1aac340",
   "metadata": {},
   "source": [
    "Function to predict value"
   ]
  },
  {
   "cell_type": "code",
   "execution_count": 7,
   "id": "0239e16d-7b3c-4fc6-bbc1-f85fbdaec1ae",
   "metadata": {},
   "outputs": [],
   "source": [
    "def predict(X,w):\n",
    "    return X @ w"
   ]
  },
  {
   "cell_type": "markdown",
   "id": "timely-anaheim",
   "metadata": {},
   "source": [
    "Implement the descent functions. You will pass `X`, `y`, the learning rate in the $\\alpha$ variable, the initial weight vector in `w`, the tolerance in the $\\epsilon$ variable, the maximal number of epochs in `epochs`. You will return `w`."
   ]
  },
  {
   "cell_type": "markdown",
   "id": "challenging-shopper",
   "metadata": {},
   "source": [
    "Batch descent"
   ]
  },
  {
   "cell_type": "code",
   "execution_count": 8,
   "id": "impressive-thickness",
   "metadata": {},
   "outputs": [],
   "source": [
    "# Write your code here\n",
    "def fit_batch(X, y, alpha, w,\n",
    "                  epochs=500,\n",
    "                  epsilon=1.0e-5):\n",
    "    #pred = predict(X, w)\n",
    "    # Track loss over time \n",
    "    losses = []\n",
    "    \n",
    "    n_samples, n_features = X.shape \n",
    "    for e in range (epochs):\n",
    "        y_pred = predict (X, w)\n",
    "        error = y - y_pred\n",
    "        loss = np.mean(error**2)  # Mean squared error\n",
    "        losses.append(loss)\n",
    "        #calculate gradient\n",
    "        gradient = (1 / n_samples) * np.dot(X.T, error)\n",
    "        # update weights:\n",
    "        w = w + alpha * gradient\n",
    "        \n",
    "        # Check convergence\n",
    "        if e > 0 and abs(losses[e] - losses[e-1]) < epsilon:\n",
    "            print(f\"Converged after {e+1} epochs\")\n",
    "            break\n",
    "            \n",
    "    print(\"Epoch\", e)\n",
    "    return w, losses                 "
   ]
  },
  {
   "cell_type": "markdown",
   "id": "arctic-tobacco",
   "metadata": {},
   "source": [
    "Stochastic descent"
   ]
  },
  {
   "cell_type": "code",
   "execution_count": 45,
   "id": "43739348-f171-4c97-94dc-eb4cd555c069",
   "metadata": {},
   "outputs": [],
   "source": [
    "# Test 3\n",
    "def fit_stoch(X, y, alpha, w,\n",
    "                  epochs=500,\n",
    "                  epsilon=1.0e-5):\n",
    "    # Track loss over time\n",
    "    losses = []\n",
    "    # make sure the same results are produced every time. \n",
    "    random.seed(0)\n",
    "    # the indicies will be suffled.\n",
    "    indicies = list(range(len(X)))\n",
    "    for epoch in range(epochs):\n",
    "        random.shuffle(indicies)\n",
    "        for i in indicies:\n",
    "            # make the prediction \n",
    "            y_pred = predict([X[i]], w)[0]\n",
    "            error = y[i] - y_pred\n",
    "            #update the weight.\n",
    "            gradient = X[i:i + 1].T * error\n",
    "            w = w + alpha * gradient\n",
    "        if np.linalg.norm(gradient) < epsilon:\n",
    "            print('Gradient', np.linalg.norm(gradient))\n",
    "            break\n",
    "    print(\"Final Epoch:\", epoch)\n",
    "    return w "
   ]
  },
  {
   "cell_type": "markdown",
   "id": "becoming-upset",
   "metadata": {},
   "source": [
    "#### Applying batch descent"
   ]
  },
  {
   "cell_type": "markdown",
   "id": "atomic-given",
   "metadata": {},
   "source": [
    "Apply the batch descent and print the final weight values "
   ]
  },
  {
   "cell_type": "code",
   "execution_count": 148,
   "id": "8f682cf9-02c5-4e2d-846e-da797eb293b8",
   "metadata": {},
   "outputs": [
    {
     "data": {
      "text/plain": [
       "2"
      ]
     },
     "execution_count": 148,
     "metadata": {},
     "output_type": "execute_result"
    }
   ],
   "source": [
    "X_scaled.shape[1]"
   ]
  },
  {
   "cell_type": "code",
   "execution_count": 149,
   "id": "equipped-consensus",
   "metadata": {},
   "outputs": [
    {
     "name": "stdout",
     "output_type": "stream",
     "text": [
      "Converged after 296 epochs\n",
      "Epoch 295\n",
      "[[0.03205636]\n",
      " [0.91668494]]\n"
     ]
    }
   ],
   "source": [
    "# Write your code here\n",
    "\n",
    "# the weights are initialized with zeros i.e w0 = 0 and w1 = 0, contained inside of an array.\n",
    "w = np.zeros((X_scaled.shape[1],1))\n",
    "new_w, losses = fit_batch(X_scaled, y_scaled, 0.1, w)\n",
    "print(new_w)"
   ]
  },
  {
   "cell_type": "markdown",
   "id": "heavy-asbestos",
   "metadata": {},
   "source": [
    "Visualize the points of your dataset as well as the regression lines you obtain using matplotlib or another similar program."
   ]
  },
  {
   "cell_type": "code",
   "execution_count": 150,
   "id": "ca2aa8b4-0e30-437d-a67b-537c4922c8e1",
   "metadata": {},
   "outputs": [
    {
     "name": "stdout",
     "output_type": "stream",
     "text": [
      "the weights is  [[0.03205636]\n",
      " [0.91668494]]\n",
      "0.0\n",
      "1.0\n",
      "[1114.41074657]\n",
      "[4672.06498246]\n"
     ]
    },
    {
     "data": {
      "image/png": "[encoded data removed]",
      "text/plain": [
       "<Figure size 640x480 with 1 Axes>"
      ]
     },
     "metadata": {},
     "output_type": "display_data"
    }
   ],
   "source": [
    "min_X = np.min(stat_en[:, 0])  # Minimum of total character\n",
    "max_X = np.max(stat_en[:, 0])  # Maximum of total character counts\n",
    "min_y = np.min(stat_en[:, 1])  # Minimum of 'A' counts\n",
    "max_y = np.max(stat_en[:, 1])  # Maximum of 'A' counts\n",
    "# res-scale to the original value.\n",
    "x_fig = X_scaled[:, 1] * (max_X - min_X) + min_X  # Scale back the X values\n",
    "y_fig = y_scaled * (max_y - min_y) + min_y        # Scale back the y values\n",
    "#use the predict function to y values from min_x and max_y for the regression line\n",
    "print(\"the weights is \", new_w)\n",
    "min_scaled_x = np.min(X_scaled[:,1])\n",
    "max_scaled_x = np.max(X_scaled[:,1])\n",
    "print (min_scaled_x)\n",
    "print (max_scaled_x)\n",
    "y_min_pred = np.array([1, min_scaled_x]) @ new_w\n",
    "y_max_pred = np.array([1, max_scaled_x]) @ new_w\n",
    "#convert to original scale\n",
    "min_scaled_x = min_scaled_x * (max_X - min_X) + min_X \n",
    "y_min_pred = y_min_pred * (max_y - min_y) + min_y\n",
    "max_scaled_x = max_scaled_x * (max_X - min_X) + min_X\n",
    "y_max_pred = y_max_pred * (max_y - min_y) + min_y\n",
    "print(y_min_pred)\n",
    "print(y_max_pred)\n",
    "\n",
    "#plot data-points and the regression lines\n",
    "plt.scatter(x_fig, y_fig)\n",
    "plt.plot([min_scaled_x, max_scaled_x], \n",
    "         [y_min_pred, y_max_pred])\n",
    "plt.show()"
   ]
  },
  {
   "cell_type": "markdown",
   "id": "higher-relations",
   "metadata": {},
   "source": [
    "#### Stochastic descent"
   ]
  },
  {
   "cell_type": "code",
   "execution_count": 13,
   "id": "d9e925ba-390b-4ae7-bfec-896bad44e9e5",
   "metadata": {},
   "outputs": [],
   "source": [
    "def normalize(Xy):\n",
    "    maxima = np.amax(Xy, axis=0)\n",
    "    Xy = 1/maxima * Xy\n",
    "    return Xy"
   ]
  },
  {
   "cell_type": "code",
   "execution_count": 46,
   "id": "93471d7b-b011-4d7a-a5de-9dba8de2f348",
   "metadata": {},
   "outputs": [
    {
     "name": "stdout",
     "output_type": "stream",
     "text": [
      "[[1.         0.47351099]\n",
      " [1.         0.56420533]\n",
      " [1.         0.20121563]\n",
      " [1.         0.46844145]\n",
      " [1.         0.39547723]\n",
      " [1.         0.53422603]\n",
      " [1.         0.98911774]\n",
      " [1.         0.49718654]\n",
      " [1.         0.41180062]\n",
      " [1.         0.32969264]\n",
      " [1.         0.48004034]\n",
      " [1.         0.52489649]\n",
      " [1.         0.96274817]\n",
      " [1.         1.        ]\n",
      " [1.         0.23929026]]\n",
      "(15, 2)\n",
      "[[0.45514268]\n",
      " [0.56682406]\n",
      " [0.20324369]\n",
      " [0.46684459]\n",
      " [0.38287826]\n",
      " [0.53500308]\n",
      " [0.98645042]\n",
      " [0.49189078]\n",
      " [0.40915623]\n",
      " [0.33401766]\n",
      " [0.48757955]\n",
      " [0.52555943]\n",
      " [0.94374872]\n",
      " [1.        ]\n",
      " [0.22972696]]\n",
      "(15, 1)\n"
     ]
    }
   ],
   "source": [
    "# scale data\n",
    "# for predictor variable\n",
    "X_temp = normalize(X[:,1])\n",
    "X_scaled = np.column_stack((np.ones(len(stat_en),dtype = np.int8), X_temp))\n",
    "\n",
    "# for response variable \n",
    "y_scaled = normalize(y)\n",
    "y_scaled = y_scaled.reshape(-1, 1)\n",
    "\n",
    "print(X_scaled)\n",
    "print(X_scaled.shape)\n",
    "print(y_scaled)\n",
    "print(y_scaled.shape)"
   ]
  },
  {
   "cell_type": "code",
   "execution_count": 47,
   "id": "charged-memory",
   "metadata": {},
   "outputs": [
    {
     "name": "stdout",
     "output_type": "stream",
     "text": [
      "Initial w shape: (2, 1)\n",
      "Final Epoch: 499\n",
      "Final weights: [[3.49614446e-05]\n",
      " [9.94708728e-01]]\n",
      "Weight shape: (2, 1)\n"
     ]
    }
   ],
   "source": [
    "w = np.zeros((X_scaled.shape[1], 1))\n",
    "print(\"Initial w shape:\", w.shape)\n",
    "\n",
    "# Fit the model\n",
    "new_w = fit_stoch(X_scaled, y_scaled, 0.1, w)\n",
    "print(\"Final weights:\", new_w)\n",
    "print(\"Weight shape:\", new_w.shape)"
   ]
  },
  {
   "cell_type": "markdown",
   "id": "dependent-concentration",
   "metadata": {},
   "source": [
    "Visualize the points of your dataset as well as the regression lines you obtain using matplotlib or another similar program."
   ]
  },
  {
   "cell_type": "code",
   "execution_count": 48,
   "id": "specific-least",
   "metadata": {},
   "outputs": [
    {
     "data": {
      "image/png": "[encoded data removed]",
      "text/plain": [
       "<Figure size 640x480 with 1 Axes>"
      ]
     },
     "metadata": {},
     "output_type": "display_data"
    }
   ],
   "source": [
    "# Write your code here.\n",
    "maxima_X = np.max(stat_en[:,0])\n",
    "maxima_y = np.max(stat_en[:,1])\n",
    "\n",
    "x_fig = X_scaled[:,1] * maxima_X\n",
    "y_fig = y_scaled * maxima_y\n",
    "#use the generated weights to draw a line.\n",
    "\n",
    "min_scaled_x = np.min(X_scaled[:,1])\n",
    "max_scaled_x = np.max(X_scaled[:,1])\n",
    "\n",
    "# make the prediction\n",
    "y_min_pred = np.array([1, min_scaled_x]) @ new_w\n",
    "y_max_pred = np.array([1, max_scaled_x]) @ new_w\n",
    "\n",
    "# convert to original scale: \n",
    "min_x = min_scaled_x * maxima_X\n",
    "max_x = max_scaled_x * maxima_X\n",
    "min_y = y_min_pred * maxima_y \n",
    "max_y = y_max_pred * maxima_y\n",
    "\n",
    "# show the plot. \n",
    "plt.scatter(x_fig, y_fig)\n",
    "plt.plot([min_x, max_x],\n",
    "        [min_y, max_y])\n",
    "plt.show()"
   ]
  },
  {
   "cell_type": "markdown",
   "id": "sudden-collapse",
   "metadata": {},
   "source": [
    "### A solution to linear regression\n",
    "\n",
    "To help you start this assignment, your instructor wrote two Python notebooks that solve this exercise on linear regression. You can find them here: https://github.com/pnugues/edap01/tree/master/gradient_descent_practice\n",
    "\n",
    "2. The first notebook, `gradient_descent_numpy.ipynb`, uses Numpy. It is more compact, but you need to know a bit of numpy, for instance you multiply matrix `M` by matrix `N` with the operation `M @ N`\n",
    "1. The second notebook, `gradient_descent.ipynb`, only uses Python. The vector and matrix operations such as the dot product that are in the `vector.py` file. You can see how your instructor write the dot product or matrix multiplication operations so that there is no magic as with NumPy\n",
    "\n",
    "\n",
    "To run these programs, download them on your computer as well as the other program in the import list: vector.py\n",
    "\n",
    "The programs are also available as Python programs from\n",
    "https://github.com/pnugues/ilppp/tree/master/programs/ch04/python"
   ]
  },
  {
   "cell_type": "markdown",
   "id": "acoustic-register",
   "metadata": {},
   "source": [
    "## Classification\n",
    "You will use the same data set as for linear regression, but this time to classify a chapter as French or English. Given a pair of numbers corresponding the letter count and count of _A_, you will predict the language:\n",
    "1. $\\mathbf{x} = (35680, 2217)$ $\\to$ $y$ = English\n",
    "2. $\\mathbf{x} = (37497, 2641)$ $\\to$ $y$ = French"
   ]
  },
  {
   "cell_type": "markdown",
   "id": "surrounded-belgium",
   "metadata": {},
   "source": [
    "### The dataset\n",
    "You will use the arrays below:\n",
    "1. `X` contains the counts of letters and of _A_ s as well as a column of ones for the intercept;\n",
    "2. `y` contains the classes, where 0 is for English and 1 for French."
   ]
  },
  {
   "cell_type": "code",
   "execution_count": 49,
   "id": "acceptable-coordination",
   "metadata": {},
   "outputs": [],
   "source": [
    "X = np.array([[1.0, 35680.0, 2217.0],\n",
    "              [1.0, 42514.0, 2761.0],\n",
    "              [1.0, 15162.0, 990.0],\n",
    "              [1.0, 35298.0, 2274.0],\n",
    "              [1.0, 29800.0, 1865.0],\n",
    "              [1.0, 40255.0, 2606.0],\n",
    "              [1.0, 74532.0, 4805.0],\n",
    "              [1.0, 37464.0, 2396.0],\n",
    "              [1.0, 31030.0, 1993.0],\n",
    "              [1.0, 24843.0, 1627.0],\n",
    "              [1.0, 36172.0, 2375.0],\n",
    "              [1.0, 39552.0, 2560.0],\n",
    "              [1.0, 72545.0, 4597.0],\n",
    "              [1.0, 75352.0, 4871.0],\n",
    "              [1.0, 18031.0, 1119.0],\n",
    "              [1.0, 36961.0, 2503.0],\n",
    "              [1.0, 43621.0, 2992.0],\n",
    "              [1.0, 15694.0, 1042.0],\n",
    "              [1.0, 36231.0, 2487.0],\n",
    "              [1.0, 29945.0, 2014.0],\n",
    "              [1.0, 40588.0, 2805.0],\n",
    "              [1.0, 75255.0, 5062.0],\n",
    "              [1.0, 37709.0, 2643.0],\n",
    "              [1.0, 30899.0, 2126.0],\n",
    "              [1.0, 25486.0, 1784.0],\n",
    "              [1.0, 37497.0, 2641.0],\n",
    "              [1.0, 40398.0, 2766.0],\n",
    "              [1.0, 74105.0, 5047.0],\n",
    "              [1.0, 76725.0, 5312.0],\n",
    "              [1.0, 18317.0, 1215.0]])\n",
    "y = np.array([0.0, 0.0, 0.0, 0.0, 0.0, 0.0, 0.0, 0.0, 0.0, 0.0, 0.0, 0.0, 0.0, 0.0, 0.0,\n",
    "              1.0, 1.0, 1.0, 1.0, 1.0, 1.0, 1.0, 1.0, 1.0, 1.0, 1.0, 1.0, 1.0, 1.0, 1.0])"
   ]
  },
  {
   "cell_type": "markdown",
   "id": "collected-package",
   "metadata": {},
   "source": [
    "We visualize it"
   ]
  },
  {
   "cell_type": "code",
   "execution_count": 51,
   "id": "sudden-making",
   "metadata": {},
   "outputs": [],
   "source": [
    "x_fr = [x[1] for i, x in enumerate(X) if y[i] == 1]\n",
    "y_fr = [x[2] for i, x in enumerate(X) if y[i] == 1]\n",
    "x_en = [x[1] for i, x in enumerate(X) if y[i] == 0]\n",
    "y_en = [x[2] for i, x in enumerate(X) if y[i] == 0]"
   ]
  },
  {
   "cell_type": "code",
   "execution_count": 52,
   "id": "selective-retrieval",
   "metadata": {},
   "outputs": [
    {
     "data": {
      "text/plain": [
       "<matplotlib.collections.PathCollection at 0x26f7af13d00>"
      ]
     },
     "execution_count": 52,
     "metadata": {},
     "output_type": "execute_result"
    },
    {
     "data": {
      "image/png": "[encoded data removed]",
      "text/plain": [
       "<Figure size 640x480 with 1 Axes>"
      ]
     },
     "metadata": {},
     "output_type": "display_data"
    }
   ],
   "source": [
    "plt.scatter(x_fr, y_fr, color='red')\n",
    "plt.scatter(x_en, y_en, color='blue')"
   ]
  },
  {
   "cell_type": "markdown",
   "id": "classified-chair",
   "metadata": {},
   "source": [
    "### Normalize the dataset"
   ]
  },
  {
   "cell_type": "markdown",
   "id": "norman-engagement",
   "metadata": {},
   "source": [
    "Gradient descent algorithms can be very sensitive to the range. Therefore, we normalize the dataset."
   ]
  },
  {
   "cell_type": "code",
   "execution_count": 53,
   "id": "abroad-clothing",
   "metadata": {},
   "outputs": [],
   "source": [
    "def normalize(Xy):\n",
    "    maxima = np.amax(Xy, axis=0)\n",
    "    Xy = 1/maxima * Xy\n",
    "    return (Xy, maxima)"
   ]
  },
  {
   "cell_type": "code",
   "execution_count": 54,
   "id": "intellectual-arcade",
   "metadata": {},
   "outputs": [
    {
     "data": {
      "text/plain": [
       "array([[1.        , 0.46503747, 0.41735693],\n",
       "       [1.        , 0.55410883, 0.51976657],\n",
       "       [1.        , 0.19761486, 0.18637048],\n",
       "       [1.        , 0.46005865, 0.42808735],\n",
       "       [1.        , 0.38840013, 0.35109187],\n",
       "       [1.        , 0.52466601, 0.49058735],\n",
       "       [1.        , 0.9714174 , 0.90455572],\n",
       "       [1.        , 0.48828935, 0.45105422],\n",
       "       [1.        , 0.40443141, 0.37518825],\n",
       "       [1.        , 0.32379277, 0.30628765],\n",
       "       [1.        , 0.47144998, 0.4471009 ],\n",
       "       [1.        , 0.51550342, 0.48192771],\n",
       "       [1.        , 0.94551971, 0.8653991 ],\n",
       "       [1.        , 0.98210492, 0.91698042],\n",
       "       [1.        , 0.23500815, 0.21065512],\n",
       "       [1.        , 0.48173346, 0.47119729],\n",
       "       [1.        , 0.56853698, 0.56325301],\n",
       "       [1.        , 0.20454871, 0.19615964],\n",
       "       [1.        , 0.47221896, 0.46818524],\n",
       "       [1.        , 0.39029   , 0.37914157],\n",
       "       [1.        , 0.52900619, 0.5280497 ],\n",
       "       [1.        , 0.98084066, 0.95293675],\n",
       "       [1.        , 0.49148257, 0.49755271],\n",
       "       [1.        , 0.40272401, 0.4002259 ],\n",
       "       [1.        , 0.33217335, 0.33584337],\n",
       "       [1.        , 0.48871945, 0.4971762 ],\n",
       "       [1.        , 0.52652981, 0.52070783],\n",
       "       [1.        , 0.96585207, 0.95011295],\n",
       "       [1.        , 1.        , 1.        ],\n",
       "       [1.        , 0.23873574, 0.22872741]])"
      ]
     },
     "execution_count": 54,
     "metadata": {},
     "output_type": "execute_result"
    }
   ],
   "source": [
    "X_norm, maxima = normalize(X)\n",
    "X_norm"
   ]
  },
  {
   "cell_type": "markdown",
   "id": "ancient-stewart",
   "metadata": {
    "tags": []
   },
   "source": [
    "## The Perceptron\n",
    "\n",
    "1. Write the perceptron program as explained in pages 700--702 in Russell-Norvig (pp. 723--725 in the 3rd ed.) and in the slides and run it on your data set. As suggested program structure, use two functions: \n",
    " * `fit(X, y)` that will return `w` (the model). You can choose a stochastic or batch variant;\n",
    " * `predict(X, w)` that will return `y_hat`. You can encapsulate these functions in a class and, of course, add more parameters.\n",
    "2. As a stop criterion, you will use the number of misclassified examples.\n",
    "3. You will report the parameters you have used and the weight vector\n",
    "\n",
    "You can use numpy or not. The next cells are just suggested steps. You can implement it your way."
   ]
  },
  {
   "cell_type": "markdown",
   "id": "worthy-singing",
   "metadata": {},
   "source": [
    "### The `predict(X, w)` function\n",
    "Write a `predict(X, w)` function that given a matrix of observations ${X}$ and a weight vector $\\mathbf{w}$ will return a $\\mathbf{\\hat{y}}$ vector classes (0 or 1)"
   ]
  },
  {
   "cell_type": "code",
   "execution_count": 9,
   "id": "applicable-insight",
   "metadata": {},
   "outputs": [],
   "source": [
    "# Write your code here\n",
    "def predict(X, w):\n",
    "    activation = np.dot(X,w)\n",
    "    if activation >= 0:\n",
    "        return 1\n",
    "    else:\n",
    "        return 0"
   ]
  },
  {
   "cell_type": "markdown",
   "id": "elementary-smoke",
   "metadata": {},
   "source": [
    "### The `fit(X, y)` function"
   ]
  },
  {
   "cell_type": "markdown",
   "id": "interior-voice",
   "metadata": {},
   "source": [
    "Write a `fit(X, y)` function that given a matrix of observations ${X}$ and a vector of responses $\\mathbf{y}$ will return a weight $\\mathbf{w}$ vector. You may use the other arguments of the function, notably the number of misclassified examples to define the stop condition."
   ]
  },
  {
   "cell_type": "code",
   "execution_count": 107,
   "id": "provincial-stand",
   "metadata": {},
   "outputs": [],
   "source": [
    "# Write your code here\n",
    "def fit_stoch(X, y,\n",
    "              epochs=1000,\n",
    "              max_misclassified=0,\n",
    "              learning_rate = 0.1,\n",
    "              random_seed=42,\n",
    "              verbose=True):\n",
    "    w = np.zeros(X.shape[1])\n",
    "\n",
    "    #Start the training for a specified number of epochs\n",
    "    for epoch in range(epochs):\n",
    "        #set up the random seed for repoducibility\n",
    "        np.random.seed(random_seed + epoch)\n",
    "        # The number of misclassified \n",
    "        misclassified = 0\n",
    "        # indices for each element in the observation. \n",
    "        indices = np.arange(len(X))\n",
    "        #shuffle indices for sample. \n",
    "        indices = np.random.permutation(indices)\n",
    "        for i in indices:\n",
    "            activation = np.dot(X[i],w)\n",
    "            prediction = 1 if activation >= 0 else 0\n",
    "            if prediction != y[i]:\n",
    "                misclassified += 1\n",
    "                w = w + learning_rate * (y[i] - prediction) * X[i]\n",
    "        # return weights when the number of misclassified is smaller than max_misclassified. \n",
    "        if misclassified <= max_misclassified:\n",
    "            print (f\" The training ends after {epoch} epochs\")\n",
    "            return w\n",
    "    # The weights will be returned after all epochs.         \n",
    "    return w"
   ]
  },
  {
   "cell_type": "markdown",
   "id": "frozen-demand",
   "metadata": {},
   "source": [
    "### Fitting the dataset"
   ]
  },
  {
   "cell_type": "code",
   "execution_count": 108,
   "id": "chinese-serial",
   "metadata": {},
   "outputs": [
    {
     "name": "stdout",
     "output_type": "stream",
     "text": [
      " The training ends after 40 epochs\n",
      "[ 0.         -0.44246856  0.46423193]\n"
     ]
    }
   ],
   "source": [
    "w = fit_stoch(X_norm, y)\n",
    "print(w)"
   ]
  },
  {
   "cell_type": "code",
   "execution_count": 109,
   "id": "racial-antarctica",
   "metadata": {},
   "outputs": [
    {
     "name": "stdout",
     "output_type": "stream",
     "text": [
      "Restored weights [np.float64(0.0), np.float64(-0.03063399116720349), np.float64(0.46423192771084304)]\n",
      "Weights with y set to 1 [np.float64(0.0), np.float64(-0.06598854869431672), np.float64(1.0)]\n"
     ]
    }
   ],
   "source": [
    "w = [w[i] * maxima[-1] / maxima[i] for i in range(len(w))]\n",
    "print(\"Restored weights\", w)\n",
    "w = [w[j] / w[-1] for j in range(len(w))]\n",
    "print(\"Weights with y set to 1\", w)"
   ]
  },
  {
   "cell_type": "markdown",
   "id": "editorial-combination",
   "metadata": {},
   "source": [
    "### Visualizing the results"
   ]
  },
  {
   "cell_type": "code",
   "execution_count": 110,
   "id": "alone-granny",
   "metadata": {},
   "outputs": [
    {
     "data": {
      "text/plain": [
       "[<matplotlib.lines.Line2D at 0x26f7be610a0>]"
      ]
     },
     "execution_count": 110,
     "metadata": {},
     "output_type": "execute_result"
    },
    {
     "data": {
      "image/png": "[encoded data removed]",
      "text/plain": [
       "<Figure size 640x480 with 1 Axes>"
      ]
     },
     "metadata": {},
     "output_type": "display_data"
    }
   ],
   "source": [
    "plt.scatter(x_fr, y_fr, color='red')\n",
    "plt.scatter(x_en, y_en, color='blue')\n",
    "plt.plot([min(x_fr + x_en), max(x_fr + x_en)],\n",
    "         [-w[1] * min(x_fr + x_en) - w[0], -w[1] * max(x_fr + x_en) - w[0]])"
   ]
  },
  {
   "cell_type": "markdown",
   "id": "grateful-liberia",
   "metadata": {},
   "source": [
    "### Evaluation\n",
    "Evaluate your perceptron using the leave-one-out cross validation method. You will have to train and run 30 models. In each train/run session, you will train on 29 samples and evaluate on the remaining sample. You have then either a correct or a wrong classification. You will sum these classifications, i.e. the number of correct classifications, to get your final evaluation, for instance 29/30."
   ]
  },
  {
   "cell_type": "code",
   "execution_count": 114,
   "id": "tight-pilot",
   "metadata": {},
   "outputs": [],
   "source": [
    "# Write your code here\n",
    "def leave_one_out_cross_val(X, y, fitting_function):\n",
    "    score = 0\n",
    "    for i in range(len(y)):\n",
    "        # create the training set and test set. \n",
    "        # the train data.\n",
    "        x_train = np.delete(X, i, axis = 0)\n",
    "        y_train = np.delete(y, i, axis = 0)\n",
    "        # The test data, using the Python's slicing notation  \n",
    "        x_test = X[i:i+1]\n",
    "        y_test = y[i]\n",
    "        # Train on the training set \n",
    "        w = fitting_function(x_train, y_train)\n",
    "        # make the prediction \n",
    "        activation = np.dot(x_test, w)\n",
    "        prediction = 1 if activation >= 0 else 0\n",
    "        if prediction == y_test:\n",
    "            score += 1\n",
    "            print(f\"Fold {i} on {len(y)}, weights: {w}: Correct. \")\n",
    "        else:\n",
    "            print(f\"Fold {i} on {len(y)}, weights: {w}: Wrong. \")\n",
    "    return score / len(y)"
   ]
  },
  {
   "cell_type": "code",
   "execution_count": 115,
   "id": "ea860aac-bd01-4283-8dab-032a2765f641",
   "metadata": {},
   "outputs": [
    {
     "name": "stdout",
     "output_type": "stream",
     "text": [
      " The training ends after 22 epochs\n",
      "Fold 0 on 30, weights: [ 0.         -0.25855327  0.27044428]: Correct. \n",
      " The training ends after 60 epochs\n",
      "Fold 1 on 30, weights: [ 0.         -0.68786184  0.72387048]: Correct. \n",
      " The training ends after 69 epochs\n",
      "Fold 2 on 30, weights: [ 0.         -0.81320691  0.85363328]: Correct. \n",
      " The training ends after 42 epochs\n",
      "Fold 3 on 30, weights: [ 0.         -0.49088824  0.51656627]: Correct. \n",
      " The training ends after 24 epochs\n",
      "Fold 4 on 30, weights: [ 0.         -0.28421636  0.29952937]: Correct. \n",
      " The training ends after 14 epochs\n",
      "Fold 5 on 30, weights: [ 0.         -0.18223004  0.19167922]: Correct. \n",
      " The training ends after 20 epochs\n",
      "Fold 6 on 30, weights: [ 0.         -0.21143304  0.22176205]: Correct. \n",
      " The training ends after 25 epochs\n",
      "Fold 7 on 30, weights: [ 0.         -0.30185989  0.31639684]: Correct. \n",
      " The training ends after 42 epochs\n",
      "Fold 8 on 30, weights: [ 0.         -0.47195178  0.49471009]: Correct. \n",
      " The training ends after 49 epochs\n",
      "Fold 9 on 30, weights: [ 0.         -0.53610818  0.56065512]: Correct. \n",
      " The training ends after 27 epochs\n",
      "Fold 10 on 30, weights: [ 0.         -0.33138612  0.34757154]: Correct. \n",
      " The training ends after 15 epochs\n",
      "Fold 11 on 30, weights: [ 0.         -0.18660802  0.19519955]: Correct. \n",
      " The training ends after 24 epochs\n",
      "Fold 12 on 30, weights: [ 0.         -0.25480091  0.26752636]: Correct. \n",
      " The training ends after 8 epochs\n",
      "Fold 13 on 30, weights: [ 0.         -0.0974363   0.10205196]: Correct. \n",
      " The training ends after 27 epochs\n",
      "Fold 14 on 30, weights: [ 0.         -0.31521147  0.33138178]: Correct. \n",
      " The training ends after 48 epochs\n",
      "Fold 15 on 30, weights: [ 0.         -0.59004627  0.61795934]: Correct. \n",
      " The training ends after 28 epochs\n",
      "Fold 16 on 30, weights: [ 0.         -0.33109026  0.34777861]: Correct. \n",
      " The training ends after 21 epochs\n",
      "Fold 17 on 30, weights: [ 0.         -0.26455653  0.27893449]: Correct. \n",
      " The training ends after 29 epochs\n",
      "Fold 18 on 30, weights: [ 0.         -0.34797524  0.36359187]: Correct. \n",
      " The training ends after 28 epochs\n",
      "Fold 19 on 30, weights: [ 0.         -0.35289671  0.36841114]: Correct. \n",
      " The training ends after 27 epochs\n",
      "Fold 20 on 30, weights: [ 0.         -0.31956598  0.33362199]: Correct. \n",
      " The training ends after 24 epochs\n",
      "Fold 21 on 30, weights: [ 0.         -0.29483871  0.30820783]: Correct. \n",
      " The training ends after 74 epochs\n",
      "Fold 22 on 30, weights: [ 0.         -0.85668817  0.89870105]: Correct. \n",
      " The training ends after 49 epochs\n",
      "Fold 23 on 30, weights: [ 0.         -0.5867566   0.61765813]: Correct. \n",
      " The training ends after 35 epochs\n",
      "Fold 24 on 30, weights: [ 0.         -0.43403324  0.45707831]: Correct. \n",
      " The training ends after 51 epochs\n",
      "Fold 25 on 30, weights: [ 0.         -0.57830173  0.60657003]: Correct. \n",
      " The training ends after 24 epochs\n",
      "Fold 26 on 30, weights: [-2.77555756e-17 -2.83294884e-01  2.97853916e-01]: Correct. \n",
      " The training ends after 55 epochs\n",
      "Fold 27 on 30, weights: [ 0.         -0.62089019  0.64973645]: Correct. \n",
      " The training ends after 69 epochs\n",
      "Fold 28 on 30, weights: [ 0.         -0.738565    0.77712726]: Correct. \n",
      " The training ends after 13 epochs\n",
      "Fold 29 on 30, weights: [-2.77555756e-17 -1.63001629e-01  1.71140813e-01]: Correct. \n",
      "Cross-validation accuracy (stochastic): 1.0\n"
     ]
    }
   ],
   "source": [
    "stoch_accuracy = leave_one_out_cross_val(X_norm, y, fit_stoch)\n",
    "print('Cross-validation accuracy (stochastic):', stoch_accuracy)"
   ]
  },
  {
   "cell_type": "markdown",
   "id": "abandoned-saint",
   "metadata": {},
   "source": [
    "## Logistic Regression\n",
    "From your perceptron program, implement logistic regression. You can either follow the description from the slides or from the textbook, S. Russell and R. Norvig, _Artificial Intelligence_, 2022, pages 702--704 (pp. 725--727 in the 3rd ed.). Note that the textbook uses a criterion that is rejected by most practioners. You can either implement the stochastic or the batch version of the algorithm, or both versions. As stop criterion, you will use either the norm of the gradient or the norm of the difference between two consecutive weight vectors. You will also set a maximal number of epochs. Run the resulting program on your dataset."
   ]
  },
  {
   "cell_type": "markdown",
   "id": "treated-affiliation",
   "metadata": {},
   "source": [
    "Write the logistic function, where the $\\mathbf{x}$ input is a vector of real numbers."
   ]
  },
  {
   "cell_type": "code",
   "execution_count": 16,
   "id": "composite-broadcast",
   "metadata": {},
   "outputs": [],
   "source": [
    "# Write your code here\n",
    "def logistic(x):\n",
    "    ..."
   ]
  },
  {
   "cell_type": "markdown",
   "id": "funded-violation",
   "metadata": {},
   "source": [
    "### The `predict(X, w)` function"
   ]
  },
  {
   "cell_type": "markdown",
   "id": "alleged-delaware",
   "metadata": {},
   "source": [
    "Write a `predict_proba()` function that given a matrix of observations ${X}$ and a weight vector $\\mathbf{w}$ will return a vector of probabilities to belong to class 1: The vector will consist of $P(1|\\mathbf{x}_i)$ for all the $i$ rows of ${X}$."
   ]
  },
  {
   "cell_type": "code",
   "execution_count": 17,
   "id": "parental-winning",
   "metadata": {},
   "outputs": [],
   "source": [
    "# Write your code here\n",
    "def predict_proba(X, w):\n",
    "    ..."
   ]
  },
  {
   "cell_type": "markdown",
   "id": "olive-equilibrium",
   "metadata": {},
   "source": [
    "Write a `predict(X, w)` function that given a matrix of observations ${X}$ and a weight vector $\\mathbf{w}$ will return the class. You will use `predict_proba()` and set the threshold to belong to class 1 to 0.5."
   ]
  },
  {
   "cell_type": "code",
   "execution_count": 18,
   "id": "directed-freeze",
   "metadata": {},
   "outputs": [],
   "source": [
    "# Write your code here\n",
    "def predict(X, w):\n",
    "    ..."
   ]
  },
  {
   "cell_type": "markdown",
   "id": "weird-replication",
   "metadata": {},
   "source": [
    "### The `fit(X, y)` function"
   ]
  },
  {
   "cell_type": "markdown",
   "id": "electric-bunny",
   "metadata": {},
   "source": [
    "You will now write the `fit(X, y)` function as with the perceptron. You may call it `fit_stoch(X, y)` or `fit_batch(X, y)`. Use the parameters given in the cell below."
   ]
  },
  {
   "cell_type": "code",
   "execution_count": 19,
   "id": "forward-concentrate",
   "metadata": {},
   "outputs": [],
   "source": [
    "# Write your code here\n",
    "import random\n",
    "\n",
    "\n",
    "def fit_stoch(X, y, alpha=100,\n",
    "              epochs=1000,\n",
    "              epsilon=1.0e-4,\n",
    "              verbose=False):\n",
    "    w = np.zeros(X.shape[1])\n",
    "    ...\n",
    "    return w"
   ]
  },
  {
   "cell_type": "code",
   "execution_count": 20,
   "id": "presidential-adoption",
   "metadata": {},
   "outputs": [
    {
     "name": "stdout",
     "output_type": "stream",
     "text": [
      "Gradient: 0.8902743015225483, Likelihood: 0.0\n",
      "Gradient: 1.276795376217101, Likelihood: 0.0\n",
      "Gradient: 0.17337891287703816, Likelihood: 0.0\n",
      "Gradient: 1.1295053644306976, Likelihood: 0.0\n",
      "Gradient: 0.2319757561342016, Likelihood: 0.0\n",
      "Gradient: 1.238221107585175, Likelihood: 0.0\n",
      "Gradient: 1.4517064694646482, Likelihood: 0.0\n",
      "Gradient: 1.0666048721165573, Likelihood: 0.0\n",
      "Gradient: 0.6910125818145657, Likelihood: 0.0\n",
      "Gradient: 1.018659401273685, Likelihood: 0.0\n",
      "Gradient: 0.7525336306843057, Likelihood: 0.0\n",
      "Gradient: 0.39747201062324444, Likelihood: 0.0\n",
      "Gradient: 1.3685518680042013, Likelihood: 0.0\n",
      "Gradient: 0.37170818616043455, Likelihood: 0.0\n",
      "Gradient: 1.5069520317310683, Likelihood: 4.277459885002661e-255\n",
      "Gradient: 0.8208708284633186, Likelihood: 1.972798921561363e-208\n",
      "Gradient: 0.5062675555763811, Likelihood: 0.0\n",
      "Gradient: 1.192003475701148, Likelihood: 0.0\n",
      "Gradient: 1.086002146478891, Likelihood: 0.0\n",
      "Gradient: 0.4352128353029735, Likelihood: 1.529123258218839e-104\n",
      "Gradient: 0.37061152304332706, Likelihood: 0.0\n",
      "Gradient: 0.9867413648840414, Likelihood: 0.0\n",
      "Gradient: 1.0394776854359435, Likelihood: 0.0\n",
      "Gradient: 0.4464012705672863, Likelihood: 0.0\n",
      "Gradient: 1.0706774904441079, Likelihood: 1.336122145744415e-162\n",
      "Gradient: 0.7520238552004146, Likelihood: 7.297261333073976e-89\n",
      "Gradient: 0.7476431131561831, Likelihood: 0.0\n",
      "Gradient: 1.3747870469636516, Likelihood: 0.0\n",
      "Gradient: 1.1480392769817462, Likelihood: 6.422512319871762e-177\n",
      "Gradient: 0.9175600406403641, Likelihood: 0.0\n",
      "Gradient: 0.9661875169604444, Likelihood: 0.0\n",
      "Gradient: 1.5138186231112964, Likelihood: 0.0\n",
      "Gradient: 1.0880707687620552, Likelihood: 0.0\n",
      "Gradient: 0.5640919135664749, Likelihood: 0.0\n",
      "Gradient: 0.9118486774609976, Likelihood: 0.0\n",
      "Gradient: 1.052015393318435, Likelihood: 0.0\n",
      "Gradient: 0.9965139905832414, Likelihood: 0.0\n",
      "Gradient: 1.0176899687874659, Likelihood: 0.0\n",
      "Gradient: 0.33348280262966173, Likelihood: 0.0\n",
      "Gradient: 1.1291812008129225, Likelihood: 6.71081920034446e-100\n",
      "Gradient: 0.1394857431433857, Likelihood: 0.0\n",
      "Gradient: 1.4359263557805761, Likelihood: 0.0\n",
      "Gradient: 0.0014812429225839836, Likelihood: 0.9638629646459715\n",
      "Gradient: 0.6480373671825777, Likelihood: 0.28218779154677887\n",
      "Gradient: 1.565623766493507, Likelihood: 0.0\n",
      "Gradient: 0.20602195071120102, Likelihood: 1.5487013543582487e-74\n",
      "Gradient: 1.1801764429220807, Likelihood: 0.0\n",
      "Gradient: 0.07593956565441637, Likelihood: 0.0\n",
      "Gradient: 1.2888287332486452, Likelihood: 0.0\n",
      "Gradient: 0.6256848624375734, Likelihood: 0.0\n",
      "Gradient: 0.004746243451759594, Likelihood: 0.9817124959419073\n",
      "Gradient: 0.002911523173058091, Likelihood: 0.9821590605825486\n",
      "Gradient: 0.0028494948636769444, Likelihood: 0.9838805468602378\n",
      "Gradient: 0.0004356100592993129, Likelihood: 0.9837408136504833\n",
      "Gradient: 0.0012037023830662242, Likelihood: 0.9841949375494676\n",
      "Gradient: 0.000337047875933122, Likelihood: 0.9840324777594527\n",
      "Gradient: 0.0009358157562480703, Likelihood: 0.9846708734774855\n",
      "Gradient: 0.0009234437672776117, Likelihood: 0.9843378659730563\n",
      "Gradient: 0.0013251442648511893, Likelihood: 0.984067067090329\n",
      "Gradient: 0.001857062083095265, Likelihood: 0.9850327658858986\n",
      "epochs: 596, weights: [ 1.97011261e+00 -3.37304134e+03  3.53523406e+03], likelihood: 0.9841164740514015: "
     ]
    },
    {
     "data": {
      "text/plain": [
       "array([ 1.97011261e+00, -3.37304134e+03,  3.53523406e+03])"
      ]
     },
     "execution_count": 20,
     "metadata": {},
     "output_type": "execute_result"
    }
   ],
   "source": [
    "w = fit_stoch(X_norm, y, verbose=True)\n",
    "w"
   ]
  },
  {
   "cell_type": "code",
   "execution_count": 21,
   "id": "executed-history",
   "metadata": {},
   "outputs": [
    {
     "name": "stdout",
     "output_type": "stream",
     "text": [
      "Restored weights [1.9701126081478517, -0.04396274145008958, 0.6655184596529583]\n",
      "Weights with y set to 1 [2.9602674119290215, -0.06605788436434118, 1.0]\n"
     ]
    }
   ],
   "source": [
    "w = [w[i] / maxima[i] for i in range(len(w))]\n",
    "print(\"Restored weights\", w)\n",
    "w = [w[j] / w[-1] for j in range(len(w))]\n",
    "print(\"Weights with y set to 1\", w)"
   ]
  },
  {
   "cell_type": "markdown",
   "id": "contemporary-correlation",
   "metadata": {},
   "source": [
    "### Visualizing the results"
   ]
  },
  {
   "cell_type": "code",
   "execution_count": 22,
   "id": "headed-award",
   "metadata": {},
   "outputs": [
    {
     "data": {
      "image/png": "[encoded data removed]",
      "text/plain": [
       "<Figure size 640x480 with 1 Axes>"
      ]
     },
     "metadata": {},
     "output_type": "display_data"
    }
   ],
   "source": [
    "plt.scatter(x_fr, y_fr, color='red')\n",
    "plt.scatter(x_en, y_en, color='blue')\n",
    "plt.plot([min(x_fr + x_en), max(x_fr + x_en)],\n",
    "         [-w[1] * min(x_fr + x_en) - w[0], -w[1] * max(x_fr + x_en) - w[0]])\n",
    "plt.show()"
   ]
  },
  {
   "cell_type": "markdown",
   "id": "exclusive-database",
   "metadata": {},
   "source": [
    "### Evaluation\n",
    "Evaluate your logistic regression using the leave-one-out cross validation method as with the perceptron"
   ]
  },
  {
   "cell_type": "code",
   "execution_count": 23,
   "id": "indoor-truck",
   "metadata": {},
   "outputs": [],
   "source": [
    "# Write your code here\n",
    "def leave_one_out_cross_val(X, y, fitting_function):\n",
    "    score = 0\n",
    "    ...\n",
    "    return score / len(y)"
   ]
  },
  {
   "cell_type": "code",
   "execution_count": 24,
   "id": "strong-alaska",
   "metadata": {},
   "outputs": [
    {
     "name": "stdout",
     "output_type": "stream",
     "text": [
      "Fold 1 on 30: epochs: 145, weights: [-1.050000e+03 -1.201000e+06  1.817595e+07], likelihood: 1.0: Correct.\n",
      "Fold 2 on 30: epochs: 215, weights: [-4.650000e+03 -1.865500e+06  2.838045e+07], likelihood: 1.0: Correct.\n",
      "Fold 3 on 30: epochs: 48, weights: [ 1.05000e+03 -4.24100e+05  6.40415e+06], likelihood: 1.0: Correct.\n",
      "Fold 4 on 30: epochs: 21, weights: [ 1.50000e+02 -1.73100e+05  2.61715e+06], likelihood: 1.0: Correct.\n",
      "Fold 5 on 30: epochs: 83, weights: [-1.05000e+03 -6.92900e+05  1.04962e+07], likelihood: 1.0: Correct.\n",
      "Fold 6 on 30: epochs: 59, weights: [-1.0500e+03 -5.1940e+05  7.8526e+06], likelihood: 1.0: Correct.\n",
      "Fold 7 on 30: epochs: 77, weights: [-6.3500e+03 -6.4410e+05  9.8029e+06], likelihood: 1.0: Correct.\n",
      "Fold 8 on 30: epochs: 123, weights: [-2.35000e+03 -1.03030e+06  1.55921e+07], likelihood: 1.0: Correct.\n",
      "Fold 9 on 30: epochs: 50, weights: [-5.5000e+02 -4.0660e+05  6.1684e+06], likelihood: 1.0: Correct.\n",
      "Fold 10 on 30: epochs: 223, weights: [ 3.50000e+02 -1.94110e+06  2.95196e+07], likelihood: 1.0: Correct.\n",
      "Fold 11 on 30: epochs: 122, weights: [-7.50000e+02 -1.04890e+06  1.58407e+07], likelihood: 1.0: Correct.\n",
      "Fold 12 on 30: epochs: 31, weights: [-6.5000e+02 -2.5460e+05  3.8585e+06], likelihood: 1.0: Correct.\n",
      "Fold 13 on 30: epochs: 162, weights: [-1.04500e+04 -1.31330e+06  1.98953e+07], likelihood: 1.0: Correct.\n",
      "Fold 14 on 30: epochs: 264, weights: [-1.72500e+04 -2.19070e+06  3.32857e+07], likelihood: 1.0: Correct.\n",
      "Fold 15 on 30: epochs: 111, weights: [-6.50000e+02 -9.36600e+05  1.42376e+07], likelihood: 1.0: Correct.\n",
      "Fold 16 on 30: epochs: 99, weights: [-3.15000e+03 -8.48600e+05  1.28531e+07], likelihood: 1.0: Correct.\n",
      "Fold 17 on 30: epochs: 114, weights: [-4.15000e+03 -9.67700e+05  1.46521e+07], likelihood: 1.0: Correct.\n",
      "Fold 18 on 30: epochs: 99, weights: [-5.25000e+03 -8.69100e+05  1.31791e+07], likelihood: 1.0: Correct.\n",
      "Fold 19 on 30: epochs: 82, weights: [-1.45000e+03 -6.95300e+05  1.05551e+07], likelihood: 1.0: Correct.\n",
      "Fold 20 on 30: epochs: 101, weights: [-5.15000e+03 -8.85300e+05  1.33771e+07], likelihood: 1.0: Correct.\n",
      "Fold 21 on 30: epochs: 45, weights: [-6.5000e+02 -3.8610e+05  5.8324e+06], likelihood: 1.0: Correct.\n",
      "Fold 22 on 30: epochs: 33, weights: [ 5.0000e+01 -2.8360e+05  4.2872e+06], likelihood: 1.0: Correct.\n",
      "Fold 23 on 30: epochs: 118, weights: [-2.85000e+03 -9.62900e+05  1.46097e+07], likelihood: 1.0: Correct.\n",
      "Fold 24 on 30: epochs: 43, weights: [-1.0500e+03 -3.5450e+05  5.3647e+06], likelihood: 1.0: Correct.\n",
      "Fold 25 on 30: epochs: 46, weights: [-8.5000e+02 -3.8150e+05  5.7825e+06], likelihood: 1.0: Correct.\n",
      "Fold 26 on 30: epochs: 158, weights: [-3.4500e+03 -1.2961e+06  1.9651e+07], likelihood: 1.0: Correct.\n",
      "Fold 27 on 30: epochs: 111, weights: [-2.05000e+03 -9.36300e+05  1.42457e+07], likelihood: 1.0: Correct.\n",
      "Fold 28 on 30: epochs: 23, weights: [ 2.5000e+02 -1.7160e+05  2.5942e+06], likelihood: 1.0: Correct.\n",
      "Fold 29 on 30: epochs: 133, weights: [ 3.45000e+03 -1.07100e+06  1.61939e+07], likelihood: 1.0: Correct.\n",
      "Fold 30 on 30: epochs: 112, weights: [-6.25000e+03 -9.76400e+05  1.47217e+07], likelihood: 1.0: Correct.\n",
      "Cross-validation accuracy (batch): 1.0\n"
     ]
    },
    {
     "name": "stderr",
     "output_type": "stream",
     "text": [
      "/var/folders/29/s86dlfss3gq6ybhg4frthtxr0000gp/T/ipykernel_66100/3595419623.py:4: RuntimeWarning: overflow encountered in exp\n",
      "  return 1 / (1 + np.exp(-x))\n"
     ]
    }
   ],
   "source": [
    "stoch_accuracy = leave_one_out_cross_val(X, y, fit_stoch)\n",
    "print('Cross-validation accuracy (batch):', stoch_accuracy)"
   ]
  },
  {
   "cell_type": "markdown",
   "id": "incident-future",
   "metadata": {},
   "source": [
    "## Visualizing the logistic surface"
   ]
  },
  {
   "cell_type": "code",
   "execution_count": 25,
   "id": "attached-occasion",
   "metadata": {},
   "outputs": [],
   "source": [
    "def plot_logistic_surf(x_range, y_range, w_opt):\n",
    "    x_axis, y_axis = np.meshgrid(x_range, y_range)\n",
    "\n",
    "    # We compute the probability surface as a function of x and y\n",
    "    # First generate the (1, x, y) tuples\n",
    "    grid = np.array([[[1.0, i, j] for j in y_range] for i in x_range])\n",
    "    # Then, compute logistic((1, x, y) . w_opt)\n",
    "    z_axis = logistic((grid @ w_opt))\n",
    "    return x_axis, y_axis, z_axis.T"
   ]
  },
  {
   "cell_type": "code",
   "execution_count": 26,
   "id": "harmful-identity",
   "metadata": {},
   "outputs": [
    {
     "name": "stderr",
     "output_type": "stream",
     "text": [
      "/var/folders/29/s86dlfss3gq6ybhg4frthtxr0000gp/T/ipykernel_66100/3595419623.py:4: RuntimeWarning: overflow encountered in exp\n",
      "  return 1 / (1 + np.exp(-x))\n"
     ]
    },
    {
     "data": {
      "image/png": "[encoded data removed]",
      "text/plain": [
       "<Figure size 640x480 with 2 Axes>"
      ]
     },
     "metadata": {},
     "output_type": "display_data"
    }
   ],
   "source": [
    "x_range = np.linspace(0, 100000, 200)\n",
    "y_range = np.linspace(0, 10000, 200)\n",
    "# w = [2.073225839414742, -0.049125455233437906, 0.7440143556104162]\n",
    "\n",
    "x_axis, y_axis, z_axis = plot_logistic_surf(x_range, y_range, w)\n",
    "\n",
    "fig = plt.figure()\n",
    "ax = Axes3D(fig, auto_add_to_figure=False)\n",
    "fig.add_axes(ax)\n",
    "\n",
    "surf = ax.plot_surface(y_axis, x_axis, z_axis, rstride=1, cstride=1, cmap=cm.coolwarm,\n",
    "                       linewidth=0, antialiased=False, alpha=0.2)\n",
    "fig.colorbar(surf, shrink=0.5, aspect=5)\n",
    "# We plot the observations\n",
    "for x, y_class in zip(X, y):\n",
    "    if y_class == 1:\n",
    "        ax.scatter(x[2], x[1], y_class, color='green', marker='x')\n",
    "    else:\n",
    "        ax.scatter(x[2], x[1], y_class, color='red', marker='x')\n",
    "\n",
    "ax.elev = 30\n",
    "ax.azim = -150\n",
    "plt.show()"
   ]
  },
  {
   "cell_type": "markdown",
   "id": "internal-harassment",
   "metadata": {},
   "source": [
    "## Programming logistic regression with popular APIs\n",
    "Should you use logistic regression in a project, you will probably resort to existing libraries. In three separate notebooks, you will apply the logistic regression classification with three popular APIs:\n",
    "1. sklearn\n",
    "2. PyTorch\n",
    "3. Keras\n",
    "\n",
    "`sklearn` is included in anaconda.\n",
    "You will install the rest, ans possibly more, with:\n",
    "```\n",
    "pip2 install --upgrade keras \n",
    "pip3 install --upgrade torch\n",
    "```\n",
    "You will read and run the code in these three separate notebooks."
   ]
  },
  {
   "attachments": {},
   "cell_type": "markdown",
   "id": "promising-spring",
   "metadata": {},
   "source": [
    "## Reading\n",
    "You will read the article *An overview of gradient descent optimization algorithms* by Ruder (2017) and you will outline the main characteristics of all the optimization algorithms the author describes. This part should be of about one to two pages. Link to the article: https://arxiv.org/abs/1609.04747.\n",
    "\n",
    "You can also visualize the descents of the algorithm variants on Ruder's webpage: https://www.ruder.io/optimizing-gradient-descent/.\n",
    "\n",
    "If you understand French, or using Google translate, you may also want to read the original article on gradient descent by Cauchy here:  https://gallica.bnf.fr/ark:/12148/bpt6k2982c/f540.item.\n"
   ]
  },
  {
   "cell_type": "markdown",
   "id": "level-lodging",
   "metadata": {},
   "source": [
    "### Report\n",
    "\n",
    "The assignment must be documented in the report, which should contain the following:\n",
    "\n",
    "*   The name of the author, the title of the assignment, and any relevant information on the front page;\n",
    "*   A presentation of the assignment and the possible improvements you would have brought;\n",
    "*   A presentation of your implementation;\n",
    "*   A print-out of the example set(s) and the resulting weight vectors;\n",
    "*   Comments on the results you have obtained, including your cross validation;\n",
    "*   A short dissertation on the optimization algorithms from Ruder's paper.\n",
    "\n",
    "Please, typeset and format your report consistently. You must use Latex. Documents written using MS Word or any similar format will not be considered.\n",
    "\n",
    "You may have a look at the code in the textbook code repository (or any other implementations), but the code you hand in must be your work."
   ]
  },
  {
   "cell_type": "markdown",
   "id": "damaged-blackberry",
   "metadata": {},
   "source": [
    "## Submission\n",
    "Submit the notebook and the report to Canvas (two files). Do not include the code printout in the report, but only comments on its interesting parts. You will submit the notebook as a separate file."
   ]
  },
  {
   "cell_type": "code",
   "execution_count": null,
   "id": "adjacent-guarantee",
   "metadata": {},
   "outputs": [],
   "source": []
  }
 ],
 "metadata": {
  "kernelspec": {
   "display_name": "Python 3 (ipykernel)",
   "language": "python",
   "name": "python3"
  },
  "language_info": {
   "codemirror_mode": {
    "name": "ipython",
    "version": 3
   },
   "file_extension": ".py",
   "mimetype": "text/x-python",
   "name": "python",
   "nbconvert_exporter": "python",
   "pygments_lexer": "ipython3",
   "version": "3.9.21"
  },
  "vscode": {
   "interpreter": {
    "hash": "b97b11a820675205aae8f1d7f2a3f22bbd3a2c30189f44042310baf5b4cd1987"
   }
  }
 },
 "nbformat": 4,
 "nbformat_minor": 5
}
